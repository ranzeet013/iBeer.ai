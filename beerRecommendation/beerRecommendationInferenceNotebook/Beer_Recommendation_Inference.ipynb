{
  "nbformat": 4,
  "nbformat_minor": 0,
  "metadata": {
    "colab": {
      "provenance": []
    },
    "kernelspec": {
      "name": "python3",
      "display_name": "Python 3"
    },
    "language_info": {
      "name": "python"
    }
  },
  "cells": [
    {
      "cell_type": "code",
      "execution_count": 1,
      "metadata": {
        "colab": {
          "base_uri": "https://localhost:8080/"
        },
        "id": "vL9Kt3x5DcKs",
        "outputId": "b5e41f79-10c0-4061-da71-45cf81ec218c"
      },
      "outputs": [
        {
          "output_type": "stream",
          "name": "stdout",
          "text": [
            "Mounted at /content/drive\n"
          ]
        }
      ],
      "source": [
        "# prompt: mount drive\n",
        "\n",
        "from google.colab import drive\n",
        "drive.mount('/content/drive')"
      ]
    },
    {
      "cell_type": "code",
      "source": [
        "pip install fuzzywuzzy"
      ],
      "metadata": {
        "colab": {
          "base_uri": "https://localhost:8080/"
        },
        "id": "tYdiO6_dD8zZ",
        "outputId": "ffbfe718-da5d-4d37-d74c-3d7b16f09249"
      },
      "execution_count": 2,
      "outputs": [
        {
          "output_type": "stream",
          "name": "stdout",
          "text": [
            "Collecting fuzzywuzzy\n",
            "  Downloading fuzzywuzzy-0.18.0-py2.py3-none-any.whl.metadata (4.9 kB)\n",
            "Downloading fuzzywuzzy-0.18.0-py2.py3-none-any.whl (18 kB)\n",
            "Installing collected packages: fuzzywuzzy\n",
            "Successfully installed fuzzywuzzy-0.18.0\n"
          ]
        }
      ]
    },
    {
      "cell_type": "code",
      "source": [
        "import pandas as pd\n",
        "from fuzzywuzzy import process\n",
        "from sklearn.feature_extraction.text import CountVectorizer\n",
        "from sklearn.metrics.pairwise import cosine_similarity\n",
        "\n",
        "file_path = '/content/drive/MyDrive/recommendationBeer/cleaned_beer_dataset.csv'\n",
        "dataframe = pd.read_csv(file_path)\n",
        "\n",
        "dataframe['ingredients'] = dataframe['ingredients'].apply(lambda x: ', '.join(x.split(', ')) if isinstance(x, str) else '')\n",
        "dataframe['flavor_profile'] = dataframe['flavor_profile'].apply(lambda x: ', '.join(x.split(', ')) if isinstance(x, str) else '')\n",
        "dataframe['pairings'] = dataframe['pairings'].apply(lambda x: ', '.join(x.split(', ')) if isinstance(x, str) else '')\n",
        "\n",
        "dataframe['combined_features'] = (\n",
        "    dataframe['brand'] + \" \" +\n",
        "    dataframe['style'] + \" \" +\n",
        "    dataframe['ingredients'] + \" \" +\n",
        "    dataframe['flavor_profile'] + \" \" +\n",
        "    dataframe['pairings'] + \" \" +\n",
        "    dataframe['description']\n",
        ")\n",
        "\n",
        "vectorizer = CountVectorizer(stop_words='english', binary=True)\n",
        "feature_matrix = vectorizer.fit_transform(dataframe['combined_features'])\n",
        "cosine_sim = cosine_similarity(feature_matrix, feature_matrix)\n",
        "\n",
        "def get_beer_info(beer_name):\n",
        "    if beer_name not in dataframe['beer_name'].values:\n",
        "        suggested_name = process.extractOne(beer_name, dataframe['beer_name'].unique())[0]\n",
        "        print(f\"Did you mean '{suggested_name}'?\")\n",
        "        beer_name = suggested_name\n",
        "\n",
        "    beer_info = dataframe[dataframe['beer_name'] == beer_name].iloc[0]\n",
        "\n",
        "    beer_details = {\n",
        "        'Beer Name': beer_info['beer_name'],\n",
        "        'Brand': beer_info['brand'],\n",
        "        'Style': beer_info['style'],\n",
        "        'ABV': beer_info['abv'],\n",
        "        'IBU': beer_info['ibu'],\n",
        "        'Ingredients': beer_info['ingredients'],\n",
        "        'Flavor Profile': beer_info['flavor_profile'],\n",
        "        'Pairings': beer_info['pairings'],\n",
        "        'Description': beer_info['description']\n",
        "    }\n",
        "\n",
        "    return beer_details\n",
        "\n",
        "\n",
        "def get_recommendations(beer_name, cosine_sim=cosine_sim):\n",
        "    if beer_name not in dataframe['beer_name'].values:\n",
        "        suggested_name = process.extractOne(beer_name, dataframe['beer_name'].unique())[0]\n",
        "        print(f\"Did you mean '{suggested_name}'?\")\n",
        "        beer_name = suggested_name\n",
        "\n",
        "    idx = dataframe[dataframe['beer_name'] == beer_name].index[0]\n",
        "    sim_scores = list(enumerate(cosine_sim[idx]))\n",
        "    sim_scores = sorted(sim_scores, key=lambda x: x[1], reverse=True)\n",
        "\n",
        "    beer_indices = [i[0] for i in sim_scores if i[0] != idx]\n",
        "    recommended_beers = dataframe['beer_name'].iloc[beer_indices].drop_duplicates().head(3).tolist()\n",
        "\n",
        "    print(\"Recommended Beers:\")\n",
        "    for beer in recommended_beers:\n",
        "        print(f\"- {beer}\")\n",
        "\n",
        "    for beer in recommended_beers:\n",
        "        print(f\"\\nDetails for recommended beer '{beer}':\")\n",
        "        beer_details = get_beer_info(beer)\n",
        "        for key, value in beer_details.items():\n",
        "            print(f\"{key}: {value}\")\n",
        "\n",
        "input_beer = input(\"Enter the name of the beer: \").strip()\n",
        "get_recommendations(input_beer)\n"
      ],
      "metadata": {
        "colab": {
          "base_uri": "https://localhost:8080/"
        },
        "id": "-ijyXJfB3yS1",
        "outputId": "6ad267ff-7ce7-4c07-ec80-867fbd275427"
      },
      "execution_count": 3,
      "outputs": [
        {
          "output_type": "stream",
          "name": "stderr",
          "text": [
            "/usr/local/lib/python3.11/dist-packages/fuzzywuzzy/fuzz.py:11: UserWarning: Using slow pure-python SequenceMatcher. Install python-Levenshtein to remove this warning\n",
            "  warnings.warn('Using slow pure-python SequenceMatcher. Install python-Levenshtein to remove this warning')\n"
          ]
        },
        {
          "output_type": "stream",
          "name": "stdout",
          "text": [
            "Enter the name of the beer: corona\n",
            "Did you mean 'Corona Extra'?\n",
            "Recommended Beers:\n",
            "- Corona Extra\n",
            "- Bira 91 Blonde Lager\n",
            "- Cerveza Modelo Especial\n",
            "\n",
            "Details for recommended beer 'Corona Extra':\n",
            "Beer Name: Corona Extra\n",
            "Brand: Grupo Modelo\n",
            "Style: Lager\n",
            "ABV: 4.5\n",
            "IBU: 18\n",
            "Ingredients: water, barley, hops, corn\n",
            "Flavor Profile: light, crisp, citrusy, refreshing\n",
            "Pairings: fish tacos, grilled shrimp, salads\n",
            "Description: A light and refreshing lager with a crisp, clean finish and subtle citrusy notes, perfect for hot days\n",
            "\n",
            "Details for recommended beer 'Bira 91 Blonde Lager':\n",
            "Beer Name: Bira 91 Blonde Lager\n",
            "Brand: Bira 91\n",
            "Style: Lager\n",
            "ABV: 4.9\n",
            "IBU: 18\n",
            "Ingredients: water, barley, hops, yeast\n",
            "Flavor Profile: crisp, light, refreshing, slightly bitter\n",
            "Pairings: light salads, grilled chicken, fish tacos\n",
            "Description: Bira 91 Blonde Lager is a crisp and refreshing lager with a slight bitterness, perfect for pairing with light salads, grilled chicken, and fish tacos\n",
            "\n",
            "Details for recommended beer 'Cerveza Modelo Especial':\n",
            "Beer Name: Cerveza Modelo Especial\n",
            "Brand: Grupo Modelo\n",
            "Style: Pilsner\n",
            "ABV: 4.4\n",
            "IBU: 18\n",
            "Ingredients: water, barley, corn, hops, yeast\n",
            "Flavor Profile: light, crisp, slightly sweet\n",
            "Pairings: tacos, grilled seafood, nachos\n",
            "Description: Cerveza Modelo Especial is a light and crisp pilsner with a slightly sweet taste, perfect with tacos, grilled seafood, or nachos\n"
          ]
        }
      ]
    }
  ]
}