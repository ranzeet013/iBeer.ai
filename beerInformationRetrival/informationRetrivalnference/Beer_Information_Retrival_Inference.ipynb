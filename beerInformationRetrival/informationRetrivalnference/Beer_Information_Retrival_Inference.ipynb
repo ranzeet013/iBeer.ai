{
  "nbformat": 4,
  "nbformat_minor": 0,
  "metadata": {
    "colab": {
      "provenance": []
    },
    "kernelspec": {
      "name": "python3",
      "display_name": "Python 3"
    },
    "language_info": {
      "name": "python"
    }
  },
  "cells": [
    {
      "cell_type": "code",
      "source": [
        "pip install fuzzywuzzy"
      ],
      "metadata": {
        "colab": {
          "base_uri": "https://localhost:8080/"
        },
        "id": "RqnLheorLeD2",
        "outputId": "37053b9a-b315-4f18-a26b-65c1ac3c4617"
      },
      "execution_count": 1,
      "outputs": [
        {
          "output_type": "stream",
          "name": "stdout",
          "text": [
            "Collecting fuzzywuzzy\n",
            "  Downloading fuzzywuzzy-0.18.0-py2.py3-none-any.whl.metadata (4.9 kB)\n",
            "Downloading fuzzywuzzy-0.18.0-py2.py3-none-any.whl (18 kB)\n",
            "Installing collected packages: fuzzywuzzy\n",
            "Successfully installed fuzzywuzzy-0.18.0\n"
          ]
        }
      ]
    },
    {
      "cell_type": "code",
      "execution_count": 5,
      "metadata": {
        "colab": {
          "base_uri": "https://localhost:8080/"
        },
        "id": "u_Ine6_lKVLL",
        "outputId": "b81b6957-5c83-4864-d938-8cea4c905e4d"
      },
      "outputs": [
        {
          "output_type": "stream",
          "name": "stdout",
          "text": [
            "Welcome to the Beer Info Finder!\n",
            "Type 'exit' to quit.\n",
            "\n",
            "Enter the name of the beer: Corona Beer \n",
            "\n",
            "Beer Information:\n",
            "Name: Corona Beer\n",
            "History and Background: Corona Extra was first brewed in 1925 by Cervecería Modelo in Mexico City. It is one of the most popular Mexican beers globally, known for its light and crisp taste. Corona became iconic for its clear, transparent bottle and its tradition of serving with a slice of lime, enhancing the beer's refreshing quality. The beer gained immense popularity in the United States during the 1980s, becoming synonymous with beach life, summer, and relaxation. Today, Corona is enjoyed in over 180 countries and is one of the top-selling beers worldwide.\n",
            "Ingredients: {\n",
            "  \"water\": \"Filtered water from local springs, ensuring a crisp, clean taste.\",\n",
            "  \"malt\": \"Pale malted barley, providing a light, golden color and subtle sweetness.\",\n",
            "  \"hops\": \"Mild hop varieties, offering a gentle bitterness and aroma.\",\n",
            "  \"corn\": \"Flaked maize is added to lighten the body and give a distinct flavor.\",\n",
            "  \"yeast\": \"A special bottom-fermenting yeast strain, chosen for its ability to produce a clean fermentation profile.\"\n",
            "}\n",
            "Brewing Process: {\n",
            "  \"mashing\": \"The malted barley and flaked maize are mixed with hot water at 64\\u00b0C (147\\u00b0F) for 60 minutes, converting the starches into fermentable sugars.\",\n",
            "  \"boiling\": \"The wort is boiled for 60 minutes, with hops added early to impart a mild bitterness.\",\n",
            "  \"cooling\": \"The hot wort is quickly cooled to 15\\u00b0C (59\\u00b0F) using a heat exchanger to prepare for fermentation.\",\n",
            "  \"fermentation\": \"Yeast is added to the cooled wort, and fermentation occurs at 12\\u00b0C (54\\u00b0F) for 1-2 weeks, creating alcohol and natural carbonation.\",\n",
            "  \"lagering\": \"The beer is lagered at 0\\u00b0C (32\\u00b0F) for 3-4 weeks, allowing it to develop a smooth, refined taste.\",\n",
            "  \"filtering_and_packaging\": \"The beer is finely filtered for clarity and then packaged into clear glass bottles, cans, or kegs.\"\n",
            "}\n",
            "Note: While everyone may have their own preferences, Corona Beer pairs exceptionally well with the following food, smokes, and drinks:\n",
            "Food Pairing: Aloo Bhaji, Sukuti, Kachila, Badam Sadeko, Fried Fish, Piro Aloo Chura\n",
            "Smokes: Shikhar Ice, Mond, Garam, Khukuri\n",
            "\n",
            "Enter the name of the beer: Stella Artois beer\n",
            "\n",
            "Beer Information:\n",
            "Name: Stella Artois Beer\n",
            "History and Background: Stella Artois was first brewed in 1926 in Leuven, Belgium. Originally created as a Christmas beer, it quickly became popular for its crisp, refreshing taste. Named 'Stella,' which means 'star' in Latin, the beer was intended to celebrate the holiday season. Over time, it became a year-round favorite, known for its high quality and distinctive taste. Stella Artois has a rich heritage dating back to the Den Hoorn brewery, established in 1366, making it one of the oldest and most iconic beer brands in the world.\n",
            "Ingredients: {\n",
            "  \"water\": \"Pure spring water, used to achieve a clean and crisp taste.\",\n",
            "  \"malt\": \"Pale barley malt, providing a light, golden color and subtle sweetness.\",\n",
            "  \"hops\": \"Noble Saaz hops, contributing a balanced bitterness and floral aroma.\",\n",
            "  \"yeast\": \"A proprietary strain of bottom-fermenting yeast, ensuring a consistent and smooth flavor profile.\"\n",
            "}\n",
            "Brewing Process: {\n",
            "  \"mashing\": \"The malted barley is mixed with hot water at 65\\u00b0C (149\\u00b0F) for 60 minutes, allowing the enzymes to convert starches into sugars.\",\n",
            "  \"boiling\": \"The wort is boiled for 60 minutes, with hops added at various intervals for bitterness and aroma.\",\n",
            "  \"cooling\": \"The hot wort is cooled quickly to 10\\u00b0C (50\\u00b0F) using a heat exchanger to prepare for fermentation.\",\n",
            "  \"fermentation\": \"Yeast is added to the cooled wort, and it ferments at 9\\u00b0C (48\\u00b0F) for about 2 weeks, converting sugars into alcohol.\",\n",
            "  \"lagering\": \"The beer undergoes a lagering process at 0\\u00b0C (32\\u00b0F) for 4-6 weeks to develop its smooth, refined taste.\",\n",
            "  \"filtering_and_packaging\": \"The beer is finely filtered to ensure clarity and then packaged into its signature green bottles, cans, or kegs.\"\n",
            "}\n",
            "Note: While everyone may have their own preferences, Stella Atrois Beer pairs exceptionally well with the following food, smokes, and drinks:\n",
            "Food Pairing: Momo, Chowmin, Chicken 65, Gundrul Sadeko Wai wai Sadeko, Sausage Chilly\n",
            "Smokes: Shikhar Ice, Gold Flake, Wills Navy Cut, Surya Classic\n",
            "\n",
            "Enter the name of the beer: Budweiser Beer\n",
            "\n",
            "Beer Information:\n",
            "Name: Budweiser Beer\n",
            "History and Background: Budweiser, known as the 'King of Beers,' was first brewed by Adolphus Busch in 1876 in St. Louis, Missouri, USA. It was created as an American-style lager, inspired by Czech and German brewing techniques. Budweiser gained popularity for its crisp, clean taste and smooth finish, quickly becoming one of the most iconic and widely consumed beers in the United States. The brand's focus on quality, consistency, and a distinctive brewing process has cemented its reputation as a staple in American beer culture, enjoyed by millions worldwide.\n",
            "Ingredients: {\n",
            "  \"water\": \"Pure, filtered water, ensuring a consistent and balanced flavor profile.\",\n",
            "  \"malt\": \"Two-row and six-row barley malt, selected for its high quality and the rich, sweet base it provides.\",\n",
            "  \"hops\": \"A blend of American and European aroma hops, including Saaz and Hallertau, for a subtle bitterness and delicate aroma.\",\n",
            "  \"rice\": \"High-quality rice is used to give Budweiser its crisp, clean finish and light body.\",\n",
            "  \"yeast\": \"Budweiser\\u2019s proprietary yeast strain, used since the 1870s, contributing to its signature taste.\"\n",
            "}\n",
            "Brewing Process: {\n",
            "  \"mashing\": \"A blend of barley malt and rice is mashed at 65\\u00b0C (149\\u00b0F) for 60 minutes, converting starches into fermentable sugars.\",\n",
            "  \"boiling\": \"The wort is boiled for 90 minutes, with hops added at various stages to provide balanced bitterness and aroma.\",\n",
            "  \"cooling\": \"The wort is rapidly cooled to 12\\u00b0C (54\\u00b0F) using a heat exchanger, preparing it for fermentation.\",\n",
            "  \"fermentation\": \"Budweiser is fermented with its unique yeast strain at 10\\u00b0C (50\\u00b0F) for about 21 days, producing alcohol and carbonation.\",\n",
            "  \"beechwood_aging\": \"The beer undergoes a beechwood aging process for 3 weeks, which enhances its smoothness and clarity.\",\n",
            "  \"filtering_and_packaging\": \"Budweiser is carefully filtered and then packaged into bottles, cans, or kegs under sterile conditions to preserve its iconic taste.\"\n",
            "}\n",
            "Note: While everyone may have their own preferences, Budweiser Beer pairs exceptionally well with the following food, smokes, and drinks:\n",
            "Food Pairing: Kachela, Mo:Mo , Piro Aalu, Sausage Chilly, Newari Style Chicken Chhoila, Piro Achar, Kukhura ko masu\n",
            "Smokes: Shikhar Ice, Garam, Khukuri, Wills Navy Cut\n",
            "\n",
            "Enter the name of the beer: exit\n",
            "Goodbye!\n"
          ]
        }
      ],
      "source": [
        "from fuzzywuzzy import process\n",
        "import json\n",
        "\n",
        "\n",
        "with open('/content/data.json') as f:\n",
        "    beers_data = json.load(f)\n",
        "\n",
        "\n",
        "def get_best_match(input_name: str, beers_list: list):\n",
        "    names = [beer['name_of_beer'] for beer in beers_list]\n",
        "    best_match = process.extractOne(input_name, names)\n",
        "    return best_match\n",
        "\n",
        "\n",
        "def get_beer_info(beer_name: str):\n",
        "    best_match = get_best_match(beer_name, beers_data)\n",
        "    if best_match and best_match[1] > 80:\n",
        "        matched_beer_name = best_match[0]\n",
        "        for beer in beers_data:\n",
        "            if beer['name_of_beer'] == matched_beer_name:\n",
        "                return {\n",
        "                    \"name_of_beer\": beer[\"name_of_beer\"],\n",
        "                    \"history_and_background\": beer[\"history_and_background\"],\n",
        "                    \"ingredients\": beer[\"ingredients\"],\n",
        "                    \"brewing_process\": beer[\"brewing_process\"],\n",
        "                    \"note\": beer[\"note\"],\n",
        "                    \"food_pairing\": beer[\"food_pairing\"],\n",
        "                    \"smokes\": beer[\"smokes\"]\n",
        "                }\n",
        "    else:\n",
        "        return {\"error\": \"No similar beer found. Please check the name.\"}\n",
        "\n",
        "def main():\n",
        "    print(\"Welcome to the Beer Info Finder!\")\n",
        "    print(\"Type 'exit' to quit.\")e\n",
        "\n",
        "    while True:\n",
        "        beer_name = input(\"\\nEnter the name of the beer: \").strip()\n",
        "        if beer_name.lower() == \"exit\":\n",
        "            print(\"Goodbye!\")\n",
        "            break\n",
        "\n",
        "        result = get_beer_info(beer_name)\n",
        "        if \"error\" in result:\n",
        "            print(result[\"error\"])\n",
        "        else:\n",
        "            print(\"\\nBeer Information:\")\n",
        "            print(f\"Name: {result['name_of_beer']}\")\n",
        "            print(f\"History and Background: {result['history_and_background']}\")\n",
        "            print(f\"Ingredients: {json.dumps(result['ingredients'], indent=2)}\")\n",
        "            print(f\"Brewing Process: {json.dumps(result['brewing_process'], indent=2)}\")\n",
        "            print(f\"Note: {result['note']}\")\n",
        "            print(f\"Food Pairing: {', '.join(result['food_pairing'])}\")\n",
        "            print(f\"Smokes: {', '.join(result['smokes'])}\")\n",
        "\n",
        "if __name__ == \"__main__\":\n",
        "    main()\n"
      ]
    }
  ]
}